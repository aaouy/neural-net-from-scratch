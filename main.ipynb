{
 "cells": [
  {
   "cell_type": "markdown",
   "id": "218380a6",
   "metadata": {},
   "source": [
    "# Neural Network from scratch to classify numbers\n",
    "\n",
    "The following jupyter notebook demonstrates a single hidden layer neural network built using only NumPy, and trained to classify numbers between 0 - 9. The MNIST dataset was used for this task."
   ]
  },
  {
   "cell_type": "markdown",
   "id": "f13160ec",
   "metadata": {},
   "source": [
    "## Loading Datasets"
   ]
  },
  {
   "cell_type": "code",
   "execution_count": 725,
   "id": "53d4b4ce",
   "metadata": {},
   "outputs": [
    {
     "name": "stdout",
     "output_type": "stream",
     "text": [
      "Path to dataset files: /Users/alexouyang/.cache/kagglehub/datasets/hojjatk/mnist-dataset/versions/1\n"
     ]
    }
   ],
   "source": [
    "import kagglehub\n",
    "import os\n",
    "import idx2numpy\n",
    "import numpy as np\n",
    "import matplotlib.pyplot as plt\n",
    "\n",
    "np.random.seed(42)\n",
    "\n",
    "# Download latest version\n",
    "dataset_path = kagglehub.dataset_download(\"hojjatk/mnist-dataset\")\n",
    "\n",
    "print(\"Path to dataset files:\", dataset_path)"
   ]
  },
  {
   "cell_type": "code",
   "execution_count": 726,
   "id": "b10d0c81",
   "metadata": {},
   "outputs": [
    {
     "name": "stdout",
     "output_type": "stream",
     "text": [
      "Files: ['t10k-images-idx3-ubyte', 'train-labels.idx1-ubyte', 'train-images.idx3-ubyte', 't10k-labels-idx1-ubyte', 'train-images-idx3-ubyte', 't10k-labels.idx1-ubyte', 't10k-images.idx3-ubyte', 'train-labels-idx1-ubyte']\n"
     ]
    }
   ],
   "source": [
    "files = os.listdir(dataset_path)\n",
    "print(\"Files:\", files)"
   ]
  },
  {
   "cell_type": "code",
   "execution_count": 727,
   "id": "a97dd64a",
   "metadata": {},
   "outputs": [],
   "source": [
    "training_imgs = idx2numpy.convert_from_file(os.path.join(dataset_path, \"train-images.idx3-ubyte\"))\n",
    "raw_training_labels = idx2numpy.convert_from_file(os.path.join(dataset_path, \"train-labels.idx1-ubyte\"))"
   ]
  },
  {
   "cell_type": "code",
   "execution_count": 728,
   "id": "aef746de",
   "metadata": {},
   "outputs": [
    {
     "data": {
      "text/plain": [
       "(60000, 28, 28)"
      ]
     },
     "execution_count": 728,
     "metadata": {},
     "output_type": "execute_result"
    }
   ],
   "source": [
    "training_imgs.shape"
   ]
  },
  {
   "cell_type": "code",
   "execution_count": 729,
   "id": "46a60858",
   "metadata": {},
   "outputs": [
    {
     "data": {
      "text/plain": [
       "(array([0, 1, 2, 3, 4, 5, 6, 7, 8, 9], dtype=uint8),\n",
       " array([5923, 6742, 5958, 6131, 5842, 5421, 5918, 6265, 5851, 5949]))"
      ]
     },
     "execution_count": 729,
     "metadata": {},
     "output_type": "execute_result"
    }
   ],
   "source": [
    "np.unique(raw_training_labels, return_counts=True)"
   ]
  },
  {
   "cell_type": "code",
   "execution_count": 730,
   "id": "cc529ff7",
   "metadata": {},
   "outputs": [
    {
     "data": {
      "text/plain": [
       "np.uint8(5)"
      ]
     },
     "execution_count": 730,
     "metadata": {},
     "output_type": "execute_result"
    }
   ],
   "source": [
    "raw_training_labels[0]"
   ]
  },
  {
   "cell_type": "code",
   "execution_count": 731,
   "id": "8d9e889e",
   "metadata": {},
   "outputs": [],
   "source": [
    "def format_labels(labels):\n",
    "    \"\"\"Converts an array of integer labels into a more suitable format for neural networks.\n",
    "\n",
    "    Args:\n",
    "        labels (np.ndarray): The labels of the training/testing set. Shape = (n_samples, ).\n",
    "\n",
    "    Returns:\n",
    "        np.ndarray: The labels of the training/testing set formatted as one-hot encoded vectors. Shape = (n_samples, 10).\n",
    "    \"\"\"\n",
    "    res = np.zeros((len(labels), 10), dtype=float)\n",
    "    res[np.arange(len(labels)), labels] = 1.0\n",
    "    return res \n",
    "\n",
    "def format_inputs(inputs):\n",
    "    \"\"\"Converts an array of inputs into a more suitable format for neural networks.\n",
    "\n",
    "    Args:\n",
    "        inputs (np.ndarray): The inputs of the training/testing set. Shape = (n_samples, n_rows, n_cols).\n",
    "\n",
    "    Returns:\n",
    "        np.ndarray: The inputs of the training/testing set formatted as 1D vectors. Shape = (n_samples, n_rows * n_cols).\n",
    "    \"\"\"\n",
    "    res = inputs.reshape((inputs.shape[0], inputs.shape[1] * inputs.shape[2])).copy()\n",
    "    return res\n"
   ]
  },
  {
   "cell_type": "code",
   "execution_count": 732,
   "id": "35bce103",
   "metadata": {},
   "outputs": [
    {
     "data": {
      "text/plain": [
       "array([[0., 0., 0., ..., 0., 0., 0.],\n",
       "       [1., 0., 0., ..., 0., 0., 0.],\n",
       "       [0., 0., 0., ..., 0., 0., 0.],\n",
       "       ...,\n",
       "       [0., 0., 0., ..., 0., 0., 0.],\n",
       "       [0., 0., 0., ..., 0., 0., 0.],\n",
       "       [0., 0., 0., ..., 0., 1., 0.]], shape=(60000, 10))"
      ]
     },
     "execution_count": 732,
     "metadata": {},
     "output_type": "execute_result"
    }
   ],
   "source": [
    "training_labels = format_labels(raw_training_labels)\n",
    "training_labels"
   ]
  },
  {
   "cell_type": "code",
   "execution_count": 733,
   "id": "1827190b",
   "metadata": {},
   "outputs": [
    {
     "data": {
      "text/plain": [
       "(60000, 784)"
      ]
     },
     "execution_count": 733,
     "metadata": {},
     "output_type": "execute_result"
    }
   ],
   "source": [
    "training_inputs = format_inputs(training_imgs)\n",
    "training_inputs.shape"
   ]
  },
  {
   "cell_type": "markdown",
   "id": "61b35352",
   "metadata": {},
   "source": [
    "## Function Definitions"
   ]
  },
  {
   "cell_type": "code",
   "execution_count": 734,
   "id": "da4dff33",
   "metadata": {},
   "outputs": [],
   "source": [
    "def relu(x: np.ndarray) -> np.ndarray:\n",
    "    \"\"\"The ReLU function.\n",
    "\n",
    "    Args:\n",
    "        x (np.ndarray): The inputs to the ReLU function.\n",
    "\n",
    "    Returns:\n",
    "        np.ndarray: The maximum of 0 and each input. Shape = (len(x), )\n",
    "    \"\"\"\n",
    "    return np.maximum(0, x)\n",
    "\n",
    "def relu_derivative(x: np.ndarray) -> np.ndarray:\n",
    "    \"\"\"The ReLU derivative.\n",
    "\n",
    "    Args:\n",
    "        x (np.ndarray): The input to the ReLU derivative.\n",
    "\n",
    "    Returns:\n",
    "        np.ndarray: One if x > 0, otherwise zero. Shape = (len(x), )\n",
    "    \"\"\"\n",
    "    return (x > 0).astype(float)\n",
    "\n",
    "def softmax(z: np.ndarray) -> np.ndarray:\n",
    "    \"\"\"The softmax function.\n",
    "\n",
    "    Args:\n",
    "        z (np.ndarray): The input to the softmax function.\n",
    "\n",
    "    Returns:\n",
    "        np.ndarray: Normalisation of inputs to a probability distribution. Shape = (len(z), )\n",
    "    \"\"\"\n",
    "    m = np.max(z)\n",
    "    return np.exp(z - m) / np.sum(np.exp(z - m))\n",
    "    \n",
    "def init_weights(n: int, m: int) -> np.ndarray:\n",
    "    \"\"\"Weight initialisation using He initialisation.\n",
    "\n",
    "    Args:\n",
    "        n (int): Size of origin layer.\n",
    "        m (int): Size of destination layer.\n",
    "\n",
    "    Returns:\n",
    "        np.ndarray: The weights from the origin to destination layer. Shape = (n, m)\n",
    "    \"\"\"\n",
    "    return np.random.normal(0, np.sqrt(2 / n), (n, m))\n",
    "\n",
    "def forward_pass(w1: np.ndarray, w2: np.ndarray, x: np.ndarray, b1: np.ndarray, b2: np.ndarray) -> tuple:\n",
    "    \"\"\"Forward pass of backpropagation.\n",
    "\n",
    "    Args:\n",
    "        w1 (np.ndarray): Weights of the input layer. Shape = (n_inputs, n_hidden).\n",
    "        w2 (np.ndarray): Weights of the hidden layer. Shape = (n_hidden, n_outputs).\n",
    "        x (np.ndarray): Inputs to the neural network. Shape = (n_inputs, )\n",
    "        b1 (np.ndarray): Bias of the input layer.\n",
    "        b2 (np.ndarray): Bias of the hidden layer.\n",
    "\n",
    "    Returns:\n",
    "        tuple: \n",
    "            z1 (np.ndarray): Weighted sum of the hidden layer.\n",
    "            z2 (np.ndarray): Weighted sum of the output layer.\n",
    "            a1 (np.ndarray): Inputs to the output layer.\n",
    "            a2 (np.ndarray): Outputs of the output layer.\n",
    "    \"\"\"\n",
    "    z1 = (x @ w1) + b1\n",
    "    a1 = relu(z1)\n",
    "    z2 = (a1 @ w2) + b2\n",
    "    a2 = softmax(z2)\n",
    "    \n",
    "    return z1, z2, a1, a2\n",
    "    \n",
    "def backward_pass(x: np.ndarray, y: np.ndarray, a1: np.ndarray, a2: np.ndarray, z1: np.ndarray, w1: np.ndarray, w2: np.ndarray, b1: np.ndarray, b2: np.ndarray, lr: float) -> tuple:\n",
    "    \"\"\"Backward pass of backpropagation.\n",
    "\n",
    "    Args:\n",
    "        x (np.ndarray): Inputs of the training set. Shape = (n_inputs, ).\n",
    "        y (np.ndarray): Labels of the training. Shape = (n_outputs, ).\n",
    "        a1 (np.ndarray): Inputs to the output layer. Shape = (n_hidden).\n",
    "        a2 (np.ndarray): Outputs of the output layer. Shape = (n_outputs, ).\n",
    "        z1 (np.ndarray): Weighted sum of the hidden layer. Shape = (n_hidden, ).\n",
    "        w1 (np.ndarray): Weights from the input to hidden layer. Shape = (n_inputs, n_hidden).\n",
    "        w2 (np.ndarray): Weights from the hidden to output layer. Shape = (n_hidden, n_output).\n",
    "        b1 (np.ndarray): Bias of the weighted sum at the hidden layer. Shape = (n_hidden, ).\n",
    "        b2 (np.ndarray): Bias of the weighted sum at the output layer. Shape = (n_output, ).\n",
    "        lr (float): The learning rate.\n",
    "\n",
    "    Returns:\n",
    "        float:\n",
    "            w1 (np.ndarray): New weights from input to hidden layer. Shape = (n_inputs, n_hidden).\n",
    "            w2 (np.ndarray): New weights from hidden to output layer. Shape = (n_hidden, n_output).\n",
    "            b1 (np.ndarray): Biases of weighted sum at hidden layer. Shape = (n_hidden, ).\n",
    "            b2 (np.ndarray): Biases of weighted sum at output layer. Shape = (n_output, ).\n",
    "    \"\"\"\n",
    "    delta2 = a2 - y \n",
    "    delta1 = relu_derivative(z1) * (w2 @ delta2)\n",
    "    \n",
    "    w2 -= (lr * np.outer(a1, delta2))\n",
    "    w1 -= (lr * np.outer(x, delta1))\n",
    "    \n",
    "    b2 -= lr * delta2\n",
    "    b1 -= lr * delta1\n",
    "    \n",
    "    return w1, w2, b1, b2\n",
    "\n",
    "def backprop(x: np.ndarray, y: np.ndarray, w1: np.ndarray, w2: np.ndarray, b1: np.ndarray, b2: np.ndarray, lr: float) -> tuple:\n",
    "    \"\"\"Backpropagatio algorithm.\n",
    "\n",
    "    Args:\n",
    "        x (np.ndarray): Inputs to the neural network. Shape = (n_inputs, )\n",
    "        y (np.ndarray): Labels of the neural network. Shape = (n_outpus, )\n",
    "        w1 (np.ndarray): Weights from the input to hidden layer. Shape = (n_inputs, n_hidden)\n",
    "        w2 (np.ndarray): Weights from the hidden to output layer. Shape = (n_hidden, n_output)\n",
    "        b1 (np.ndarray): Biases of the weighted sums in the hidden layer. Shape = (n_hidden, )\n",
    "        b2 (np.ndarray): Biases of the weighted sums in the output layer. Shape = (n_output, )\n",
    "        lr (float): The learning rate.\n",
    "\n",
    "    Returns:\n",
    "        tuple: \n",
    "            w1 (np.ndarray): Updated weights from the input to hidden layer. Shape = (n_inputs, n_hidden)\n",
    "            w2 (np.ndarray): Updated weights from the hidden to output layer. Shape = (n_hidden, n_output)\n",
    "            b1 (np.ndarray): Biases of the weighted sums in the hidden layer. Shape = (n_hidden, )\n",
    "            b2 (np.ndarray): Biases of the weighted sums in the output layer. Shape = (n_output, )\n",
    "    \"\"\"\n",
    "    z1, z2, a1, a2 = forward_pass(w1, w2, x, b1, b2)\n",
    "    w1, w2, b1, b2 = backward_pass(x, y, a1, a2, z1, w1, w2, b1, b2, lr)\n",
    "    return w1, w2, b1, b2\n",
    "\n",
    "def train_nn(x: np.ndarray, y: np.ndarray, w1: np.ndarray, w2: np.ndarray, b1: np.ndarray, b2:np.ndarray, lr: float, epochs=1) -> tuple:\n",
    "    \"\"\"Train a neural network. \n",
    "\n",
    "    Args:\n",
    "        x (np.ndarray): Inputs to the neural network. Shape = (n_inputs, ).\n",
    "        y (np.ndarray): Labels of the neural network. Shape = (n_outpus, )\n",
    "        w1 (np.ndarray): Weights from the input to hidden layer. Shape = (n_inputs, n_hidden). \n",
    "        w2 (np.ndarray): Weights from the hidden to output layer. Shape = (n_hidden, n_output)\n",
    "        b1 (np.ndarray): Biases of the weighted sums in the hidden layer. Shape = (n_hidden, )\n",
    "        b2 (np.ndarray): Biases of the weighted sums in the output layer. Shape = (n_output, )\n",
    "        lr (float): The learning rate.\n",
    "        epochs (int, optional): Number of epochs to train for. Defaults to 1.\n",
    "\n",
    "    Returns:\n",
    "        tuple:\n",
    "            w1 (np.ndarray): Updated weights from the input to hidden layer. Shape = (n_inputs, n_hidden)\n",
    "            w2 (np.ndarray): Updated weights from the hidden to output layer. Shape = (n_hidden, n_output)\n",
    "            b1 (np.ndarray): Biases of the weighted sums in the hidden layer. Shape = (n_hidden, )\n",
    "            b2 (np.ndarray): Biases of the weighted sums in the output layer. Shape = (n_output, )\n",
    "    \"\"\"\n",
    "    n = len(x)\n",
    "    indices = np.arange(n)\n",
    "    for _ in range(epochs):\n",
    "        np.random.shuffle(indices)\n",
    "        x_train, y_train = x[indices], y[indices]\n",
    "        for i in range(n):\n",
    "            w1, w2, b1, b2 = backprop(x_train[i], y_train[i], w1, w2, b1, b2, lr)\n",
    "    return w1, w2, b1, b2\n"
   ]
  },
  {
   "cell_type": "markdown",
   "id": "fda5ed07",
   "metadata": {},
   "source": [
    "### Hyperparameters"
   ]
  },
  {
   "cell_type": "code",
   "execution_count": null,
   "id": "577e547d",
   "metadata": {},
   "outputs": [],
   "source": [
    "n1 = training_inputs.shape[1]\n",
    "n2 = (n1 + 10) // 2\n",
    "\n",
    "w1 = init_weights(n1, n2)\n",
    "w2 = init_weights(n2, 10)\n",
    "\n",
    "b1 = np.zeros((n2, ), dtype=float)\n",
    "b2 = np.zeros((10, ), dtype=float)\n",
    "\n",
    "lr = 0.0001\n",
    "epochs = 1"
   ]
  },
  {
   "cell_type": "markdown",
   "id": "22ca4ce9",
   "metadata": {},
   "source": [
    "## Training"
   ]
  },
  {
   "cell_type": "code",
   "execution_count": 736,
   "id": "3304244b",
   "metadata": {},
   "outputs": [],
   "source": [
    "trained_w1, trained_w2, trained_b1, trained_b2 = train_nn(training_inputs, training_labels, w1, w2, b1, b2, lr, epochs)"
   ]
  },
  {
   "cell_type": "markdown",
   "id": "1c684a24",
   "metadata": {},
   "source": [
    "## Testing"
   ]
  },
  {
   "cell_type": "code",
   "execution_count": 737,
   "id": "19550af1",
   "metadata": {},
   "outputs": [],
   "source": [
    "testing_imgs = idx2numpy.convert_from_file(os.path.join(dataset_path, \"t10k-images.idx3-ubyte\"))\n",
    "raw_testing_labels = idx2numpy.convert_from_file(os.path.join(dataset_path, \"t10k-labels.idx1-ubyte\"))"
   ]
  },
  {
   "cell_type": "code",
   "execution_count": 738,
   "id": "a83cc103",
   "metadata": {},
   "outputs": [],
   "source": [
    "testing_labels = format_labels(raw_testing_labels)"
   ]
  },
  {
   "cell_type": "code",
   "execution_count": 739,
   "id": "4ea4c0b9",
   "metadata": {},
   "outputs": [
    {
     "data": {
      "text/plain": [
       "(10,)"
      ]
     },
     "execution_count": 739,
     "metadata": {},
     "output_type": "execute_result"
    }
   ],
   "source": [
    "testing_labels[0].shape"
   ]
  },
  {
   "cell_type": "code",
   "execution_count": 740,
   "id": "8e03951c",
   "metadata": {},
   "outputs": [],
   "source": [
    "testing_inputs = format_inputs(testing_imgs)"
   ]
  },
  {
   "cell_type": "code",
   "execution_count": 756,
   "id": "0e6cda2f",
   "metadata": {},
   "outputs": [],
   "source": [
    "def predict(x: np.ndarray, w1: np.ndarray, w2: np.ndarray, b1:np.ndarray, b2:np.ndarray) -> np.ndarray:\n",
    "    \"\"\"Predict a number.\n",
    "\n",
    "    Args:\n",
    "        x (np.ndarray): A single input to the neural network. Shape = (784, )\n",
    "        w1 (np.ndarray): Weights from the input to hidden layer. Shape = (n_inputs, n_hidden). \n",
    "        w2 (np.ndarray): Weights from the hidden to output layer. Shape = (n_hidden, n_output). \n",
    "        b1 (np.ndarray): Biases of the weighted sums in the hidden layer. Shape = (n_hidden, )\n",
    "        b2 (np.ndarray): Biases of the weighted sums in the output layer. Shape = (n_output, )\n",
    "\n",
    "    Returns:\n",
    "        np.ndarray: Probability distribution of the outputs.\n",
    "    \"\"\"\n",
    "    z1 = (x @ w1) + b1\n",
    "    a1 = relu(z1)\n",
    "    z2 = (a1 @ w2) + b2\n",
    "    a2 = softmax(z2)\n",
    "    return a2\n",
    "    \n",
    "def validate_nn(x: np.ndarray, y: np.ndarray, w1: np.ndarray, w2: np.ndarray, b1: np.ndarray, b2: np.ndarray) -> float:\n",
    "    \"\"\" Testing o\n",
    "    Args:\n",
    "        x (np.ndarray): Inputs to the neural network. Shape = (n_inputs, ).\n",
    "        y (np.ndarray): Labels of the neural network. Shape = (n_outpus, ). \n",
    "        w1 (np.ndarray): Weights from the input to hidden layer. Shape = (n_inputs, n_hidden). \n",
    "        w2 (np.ndarray): Weights from the hidden to output layer. Shape = (n_hidden, n_output). \n",
    "        b1 (np.ndarray): Biases of the weighted sums in the hidden layer. Shape = (n_hidden, )\n",
    "        b2 (np.ndarray): Biases of the weighted sums in the output layer. Shape = (n_output, )\n",
    "    Returns:\n",
    "        float: Accuracy of the neural network on the test set.\n",
    "    \"\"\"\n",
    "    n = len(x)\n",
    "    accuracy = 0\n",
    "    for i in range(n):\n",
    "        a2 = predict(x[i], w1, w2, b1, b2 )\n",
    "        if np.argmax(a2) == np.argmax(y[i]):\n",
    "            accuracy += 1\n",
    "    return accuracy / n\n",
    "\n",
    "def visualise_prediction(index: int, inputs: np.ndarray, labels: np.ndarray) -> None:\n",
    "    \"\"\"Visualise a prediction for a given input.\n",
    "\n",
    "    Args:\n",
    "        index (int): The index of the input and label pair to visualise.\n",
    "        inputs (np.ndarray): The input array (Can be training or testing set). Must be the same set as labels.\n",
    "        labels (np.ndarray): The label array (Can be training or testing set). Must be the same set as input.\n",
    "    \"\"\"\n",
    "    image = inputs[index]\n",
    "    label = labels[index]\n",
    "    \n",
    "    formatted_input = image.reshape(image.shape[0] * image.shape[1]).copy()\n",
    "    \n",
    "    prediction = predict(formatted_input, trained_w1, trained_w2, trained_b1, trained_b2)\n",
    "    print(\"Prediction: \", np.argmax(prediction))\n",
    "    print(\"Actual: \", label)\n",
    "    \n",
    "    plt.gray()\n",
    "    plt.imshow(image, interpolation='nearest')\n",
    "    plt.show()"
   ]
  },
  {
   "cell_type": "code",
   "execution_count": 748,
   "id": "5b4e6b8b",
   "metadata": {},
   "outputs": [
    {
     "name": "stdout",
     "output_type": "stream",
     "text": [
      "Accuracy:  0.9234\n"
     ]
    }
   ],
   "source": [
    "accuracy = validate_nn(testing_inputs, testing_labels, trained_w1, trained_w2, trained_b1, trained_b2)\n",
    "print(\"Accuracy: \", accuracy)"
   ]
  },
  {
   "cell_type": "code",
   "execution_count": 760,
   "id": "8dc5ecf7",
   "metadata": {},
   "outputs": [
    {
     "name": "stdout",
     "output_type": "stream",
     "text": [
      "Prediction:  5\n",
      "Actual:  5\n"
     ]
    },
    {
     "data": {
      "image/png": "[encoded data removed]",
      "text/plain": [
       "<Figure size 640x480 with 1 Axes>"
      ]
     },
     "metadata": {},
     "output_type": "display_data"
    }
   ],
   "source": [
    "visualise_prediction(100, training_imgs, raw_training_labels)"
   ]
  }
 ],
 "metadata": {
  "kernelspec": {
   "display_name": "venv",
   "language": "python",
   "name": "python3"
  },
  "language_info": {
   "codemirror_mode": {
    "name": "ipython",
    "version": 3
   },
   "file_extension": ".py",
   "mimetype": "text/x-python",
   "name": "python",
   "nbconvert_exporter": "python",
   "pygments_lexer": "ipython3",
   "version": "3.13.1"
  }
 },
 "nbformat": 4,
 "nbformat_minor": 5
}
